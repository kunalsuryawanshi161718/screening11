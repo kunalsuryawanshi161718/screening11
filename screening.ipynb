{
 "cells": [
  {
   "cell_type": "markdown",
   "id": "c898f188",
   "metadata": {},
   "source": [
    "## 1. Create a function in python to read the text file and replace specific content of the file."
   ]
  },
  {
   "cell_type": "code",
   "execution_count": 24,
   "id": "d3897044",
   "metadata": {},
   "outputs": [
    {
     "name": "stdout",
     "output_type": "stream",
     "text": [
      "Function: readfile\n",
      "Run on: 2022-06-07 08:26:00\n",
      "------------------------------\n",
      "This is a placement assignment\n"
     ]
    }
   ],
   "source": [
    "@log_datetime\n",
    "#file before replacement\n",
    "def readfile():\n",
    "    f = open(\"example.txt\", \"r+\")\n",
    "    k = f.read()\n",
    "    print(k)\n",
    "readfile()"
   ]
  },
  {
   "cell_type": "code",
   "execution_count": 28,
   "id": "cbd7767f",
   "metadata": {},
   "outputs": [
    {
     "name": "stdout",
     "output_type": "stream",
     "text": [
      "enter the replace string: placement\n",
      "enter the new string to  replace: screening\n",
      "Text successfully replaced\n"
     ]
    }
   ],
   "source": [
    "#function to replace content\n",
    "def replacecontent(path,a,b):\n",
    "    f = open(path, \"r+\")\n",
    "    c = f.readlines()\n",
    "    count=0\n",
    "    for i in c:\n",
    "        if a in i:\n",
    "            replace_string=i.replace(a,b)\n",
    "            \n",
    "            c = replace_string\n",
    "            \n",
    "        count+=1\n",
    "        \n",
    "        \n",
    "    f.truncate(0)\n",
    "    f.writelines(c)\n",
    "    f.close()\n",
    "    print(\"Text successfully replaced\")\n",
    "    \n",
    "path = \"example.txt\"\n",
    "a = input(\"enter the replace string: \")\n",
    "b = input(\"enter the new string to  replace: \")\n",
    "replacecontent(path,a,b)"
   ]
  },
  {
   "cell_type": "code",
   "execution_count": 29,
   "id": "b8175fd6",
   "metadata": {},
   "outputs": [
    {
     "name": "stdout",
     "output_type": "stream",
     "text": [
      "Function: readfile\n",
      "Run on: 2022-06-07 08:31:35\n",
      "------------------------------\n",
      "This is a screening assignment\n"
     ]
    }
   ],
   "source": [
    "@log_datetime\n",
    "#file after replacement\n",
    "def readfile():\n",
    "    f = open(\"example.txt\", \"r+\")\n",
    "    k = f.read()\n",
    "    print(k)\n",
    "readfile()"
   ]
  },
  {
   "cell_type": "markdown",
   "id": "188c1fe0",
   "metadata": {},
   "source": [
    "## 2. Demonstrate use of abstract class, multiple inheritance and decorator in python using examples."
   ]
  },
  {
   "cell_type": "markdown",
   "id": "5acab4d7",
   "metadata": {},
   "source": [
    "## Ans: Python abstract class\n",
    "we use an abstract class to create a blueprint for other classes.\n",
    "an abstract method is an method without an implementation. An abstract class may or may not include abstract methods.\n",
    "\n",
    "Python doesn’t directly support abstract classes. But it does offer a module that allows you to define abstract classes.\n",
    "\n",
    "To define an abstract class, you use the abc (abstract base class) module.\n",
    "\n",
    "The abc module provides you with the infrastructure for defining abstract base classes.\n",
    "\n",
    "Example:"
   ]
  },
  {
   "cell_type": "markdown",
   "id": "c538af4a",
   "metadata": {},
   "source": [
    "Suppose that you need to develop a payroll program for a company.\n",
    "\n",
    "The company has two groups of employees: full-time employees and hourly employees. The full-time employees get a fixed salary while the hourly employees get paid by hourly wages for their services.\n",
    "\n",
    "The payroll program needs to print out a payroll that includes employee names and their monthly salaries.\n",
    "\n",
    "To model the payroll program in an object-oriented way, you may come up with the following classes: Employee, FulltimeEmployee, HourlyEmployee, and Payroll.\n",
    "\n",
    "To structure the program, we’ll use modules, where each class is placed in a separate module (or file)."
   ]
  },
  {
   "cell_type": "code",
   "execution_count": 1,
   "id": "dc06bb69",
   "metadata": {},
   "outputs": [],
   "source": [
    "#The Employee class\n",
    "from abc import ABC, abstractmethod\n",
    "\n",
    "\n",
    "class Employee(ABC):\n",
    "    def __init__(self, first_name, last_name):\n",
    "        self.first_name = first_name\n",
    "        self.last_name = last_name\n",
    "\n",
    "    @property\n",
    "    def full_name(self):\n",
    "        return f\"{self.first_name} {self.last_name}\"\n",
    "\n",
    "    @abstractmethod\n",
    "    def get_salary(self):\n",
    "        pass\n"
   ]
  },
  {
   "cell_type": "code",
   "execution_count": 2,
   "id": "96fa5c78",
   "metadata": {},
   "outputs": [],
   "source": [
    "#full time employ class\n",
    "class FulltimeEmployee(Employee):\n",
    "    def __init__(self, first_name, last_name, salary):\n",
    "        super().__init__(first_name, last_name)\n",
    "        self.salary = salary\n",
    "\n",
    "    def get_salary(self):\n",
    "        return self.salary\n"
   ]
  },
  {
   "cell_type": "code",
   "execution_count": 3,
   "id": "1e8a830a",
   "metadata": {},
   "outputs": [],
   "source": [
    "#hourly employee class\n",
    "class HourlyEmployee(Employee):\n",
    "    def __init__(self, first_name, last_name, worked_hours, rate):\n",
    "        super().__init__(first_name, last_name)\n",
    "        self.worked_hours = worked_hours\n",
    "        self.rate = rate\n",
    "\n",
    "    def get_salary(self):\n",
    "        return self.worked_hours * self.rate"
   ]
  },
  {
   "cell_type": "code",
   "execution_count": 4,
   "id": "a839bab6",
   "metadata": {},
   "outputs": [],
   "source": [
    "#payroll class\n",
    "class Payroll:\n",
    "    def __init__(self):\n",
    "        self.employee_list = []\n",
    "\n",
    "    def add(self, employee):\n",
    "        self.employee_list.append(employee)\n",
    "\n",
    "    def print(self):\n",
    "        for e in self.employee_list:\n",
    "            print(f\"{e.full_name} \\t ${e.get_salary()}\")\n"
   ]
  },
  {
   "cell_type": "code",
   "execution_count": 8,
   "id": "1491e866",
   "metadata": {},
   "outputs": [
    {
     "name": "stdout",
     "output_type": "stream",
     "text": [
      "John Doe \t $6000\n",
      "Jane Doe \t $6500\n",
      "Jenifer Smith \t $10000\n",
      "David Wilson \t $15000\n",
      "Kevin Miller \t $15000\n"
     ]
    }
   ],
   "source": [
    "#from fulltimeemployee import FulltimeEmployee\n",
    "#from hourlyemployee import HourlyEmployee\n",
    "#from payroll import Payroll\n",
    "\n",
    "payroll = Payroll()\n",
    "\n",
    "payroll.add(FulltimeEmployee('John', 'Doe', 6000))\n",
    "payroll.add(FulltimeEmployee('Jane', 'Doe', 6500))\n",
    "payroll.add(HourlyEmployee('Jenifer', 'Smith', 200, 50))\n",
    "payroll.add(HourlyEmployee('David', 'Wilson', 150, 100))\n",
    "payroll.add(HourlyEmployee('Kevin', 'Miller', 100, 150))\n",
    "\n",
    "payroll.print()"
   ]
  },
  {
   "cell_type": "markdown",
   "id": "f93b4a57",
   "metadata": {},
   "source": [
    "## Python Multiple Inheritance\n",
    "A class can be derived from more than one base class in Python. This is called multiple inheritance.\n",
    "\n",
    "In multiple inheritance, the features of all the base classes are inherited into the derived class. The syntax for multiple inheritance is similar to single inheritance."
   ]
  },
  {
   "cell_type": "code",
   "execution_count": 9,
   "id": "d9976190",
   "metadata": {},
   "outputs": [
    {
     "name": "stdout",
     "output_type": "stream",
     "text": [
      "Name: Jake, Pay: 250000, Exp: 5\n"
     ]
    }
   ],
   "source": [
    "\n",
    "# Desc:\n",
    "# Python program to demonstrate the diamond problem\n",
    "#(a.k.a. Multiple Inheritance)\n",
    "\n",
    "\n",
    "# Parent class 1\n",
    "class TeamMember(object):                   \n",
    "    def __init__(self, name, uid): \n",
    "       self.name = name \n",
    "       self.uid = uid \n",
    "  \n",
    "# Parent class 2\n",
    "class Worker(object):                 \n",
    "    def __init__(self, pay, jobtitle): \n",
    "       self.pay = pay \n",
    "       self.jobtitle = jobtitle \n",
    "  \n",
    "# Deriving a child class from the two parent classes\n",
    "class TeamLeader(TeamMember, Worker):         \n",
    "    def __init__(self, name, uid, pay, jobtitle, exp): \n",
    "       self.exp = exp \n",
    "       TeamMember.__init__(self, name, uid) \n",
    "       Worker.__init__(self, pay, jobtitle)\n",
    "       print(\"Name: {}, Pay: {}, Exp: {}\".format(self.name, self.pay, self.exp))\n",
    "\n",
    "TL = TeamLeader('Jake', 10001, 250000, 'Scrum Master', 5)"
   ]
  },
  {
   "cell_type": "markdown",
   "id": "c6527b66",
   "metadata": {},
   "source": [
    "## Python decorators \n",
    "python decorator allow you to change the behavior of a function without modifying the function itself."
   ]
  },
  {
   "cell_type": "code",
   "execution_count": 10,
   "id": "8b91b089",
   "metadata": {},
   "outputs": [
    {
     "name": "stdout",
     "output_type": "stream",
     "text": [
      "Function: daily_backup\n",
      "Run on: 2022-06-07 08:13:45\n",
      "------------------------------\n",
      "Daily backup job has finished.\n"
     ]
    }
   ],
   "source": [
    "from datetime import datetime\n",
    "\n",
    "\n",
    "def log_datetime(func):\n",
    "    '''Log the date and time of a function'''\n",
    "\n",
    "    def wrapper():\n",
    "        print(f'Function: {func.__name__}\\nRun on: {datetime.today().strftime(\"%Y-%m-%d %H:%M:%S\")}')\n",
    "        print(f'{\"-\"*30}')\n",
    "        func()\n",
    "    return wrapper\n",
    "\n",
    "\n",
    "@log_datetime\n",
    "def daily_backup():\n",
    "\n",
    "    print('Daily backup job has finished.')   \n",
    "\n",
    "     \n",
    "daily_backup()\n"
   ]
  },
  {
   "cell_type": "code",
   "execution_count": null,
   "id": "0912f2b8",
   "metadata": {},
   "outputs": [],
   "source": []
  }
 ],
 "metadata": {
  "kernelspec": {
   "display_name": "Python 3",
   "language": "python",
   "name": "python3"
  },
  "language_info": {
   "codemirror_mode": {
    "name": "ipython",
    "version": 3
   },
   "file_extension": ".py",
   "mimetype": "text/x-python",
   "name": "python",
   "nbconvert_exporter": "python",
   "pygments_lexer": "ipython3",
   "version": "3.8.8"
  }
 },
 "nbformat": 4,
 "nbformat_minor": 5
}
